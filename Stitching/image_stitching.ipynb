{
 "cells": [
  {
   "metadata": {
    "ExecuteTime": {
     "end_time": "2024-06-18T00:56:47.877489Z",
     "start_time": "2024-06-18T00:56:46.542727Z"
    }
   },
   "cell_type": "code",
   "source": [
    "import os\n",
    "import numpy as np\n",
    "import cv2\n",
    "import matplotlib.pyplot as plt\n",
    "import re"
   ],
   "id": "26ef6057a0f1376e",
   "outputs": [],
   "execution_count": 4
  },
  {
   "metadata": {
    "ExecuteTime": {
     "end_time": "2024-06-18T00:56:47.884309Z",
     "start_time": "2024-06-18T00:56:47.880496Z"
    }
   },
   "cell_type": "code",
   "source": [
    "# folder = r'Z/'\n",
    "# dir_list = os.listdir(folder)\n",
    "# list1 = []\n",
    "# for file in dir_list:\n",
    "#     os.rename(folder + str(file), folder + str(file).replace(' ', ''))\n",
    "# print(list1)"
   ],
   "id": "b94cbf2fcedf45d7",
   "outputs": [],
   "execution_count": 5
  },
  {
   "metadata": {
    "ExecuteTime": {
     "end_time": "2024-06-18T00:56:47.890792Z",
     "start_time": "2024-06-18T00:56:47.885315Z"
    }
   },
   "cell_type": "code",
   "source": [
    "def sort_rule1(a):\n",
    "    return int(re.search(r'\\d+', a).group())"
   ],
   "id": "ed67645b33ce23b6",
   "outputs": [],
   "execution_count": 6
  },
  {
   "cell_type": "code",
   "id": "0774aeba-84c9-4a86-898d-63179ac0853a",
   "metadata": {
    "ExecuteTime": {
     "end_time": "2024-06-18T00:56:47.996336Z",
     "start_time": "2024-06-18T00:56:47.892221Z"
    }
   },
   "source": [
    "folder = r'Z/'\n",
    "dir_list = os.listdir(folder)\n",
    "\n",
    "chars = ['A', 'B', 'C', 'D', 'E', 'F']\n",
    "imgs = []\n",
    "for char in chars:\n",
    "    list1 = []\n",
    "    for file in dir_list:\n",
    "        if file.find(char) == 0:\n",
    "            list1.append(folder + str(file))\n",
    "    \n",
    "    listA = sorted(list1, key=sort_rule1, reverse=True)\n",
    "    imgA = [cv2.imread(img) for img in listA]\n",
    "    imgA = np.array(imgA)\n",
    "    imgA = imgA.reshape(8,3,*imgA.shape[1:])\n",
    "    \n",
    "    img1 = cv2.vconcat([cv2.hconcat(imgA[i]) for i in range(imgA.shape[0])])\n",
    "    imgs.append(img1)\n",
    "        "
   ],
   "outputs": [],
   "execution_count": 7
  },
  {
   "metadata": {
    "ExecuteTime": {
     "end_time": "2024-06-18T00:57:51.527733Z",
     "start_time": "2024-06-18T00:56:47.998340Z"
    }
   },
   "cell_type": "code",
   "source": [
    "for img in imgs:\n",
    "    cv2.imshow('name', img)\n",
    "    cv2.waitKey(0)\n",
    "    cv2.destroyAllWindows()"
   ],
   "id": "1c866c37c8295ac7",
   "outputs": [],
   "execution_count": 8
  },
  {
   "cell_type": "code",
   "id": "42257ffe-2304-438d-9cc8-12829371985a",
   "metadata": {
    "ExecuteTime": {
     "end_time": "2024-06-18T00:58:09.410650Z",
     "start_time": "2024-06-18T00:57:51.528738Z"
    }
   },
   "source": [
    "# image_paths=['left.jpeg','right.jpeg'] \n",
    "# image_paths=['img1.jpg','img2.jpg', 'img3.jpg'] \n",
    "# image_paths = list1\n",
    "\n",
    "# imgs = [] \n",
    "  \n",
    "# for i in range(len(image_paths)): \n",
    "#     imgs.append(cv2.imread(image_paths[i])) \n",
    "#     imgs[i]=cv2.resize(imgs[i],(0,0),fx=0.8,fy=0.8) \n",
    "\n",
    "stitchy=cv2.Stitcher.create() \n",
    "(dummy,output)=stitchy.stitch(imgs) \n",
    "  \n",
    "if dummy != cv2.STITCHER_OK: \n",
    "    print(\"Stitching is not successful\") \n",
    "else:  \n",
    "    print('Your Panorama is ready!!!') \n",
    "  \n",
    "cv2.imshow('final result',output) \n",
    "  \n",
    "cv2.waitKey(0)\n",
    "cv2.destroyAllWindows()"
   ],
   "outputs": [
    {
     "name": "stdout",
     "output_type": "stream",
     "text": [
      "Your Panorama is ready!!!\n"
     ]
    }
   ],
   "execution_count": 9
  },
  {
   "metadata": {
    "ExecuteTime": {
     "end_time": "2024-06-18T00:58:09.416641Z",
     "start_time": "2024-06-18T00:58:09.412658Z"
    }
   },
   "cell_type": "code",
   "source": "",
   "id": "fddbebed589da3cf",
   "outputs": [],
   "execution_count": 9
  }
 ],
 "metadata": {
  "kernelspec": {
   "display_name": "Python 3 (ipykernel)",
   "language": "python",
   "name": "python3"
  },
  "language_info": {
   "codemirror_mode": {
    "name": "ipython",
    "version": 3
   },
   "file_extension": ".py",
   "mimetype": "text/x-python",
   "name": "python",
   "nbconvert_exporter": "python",
   "pygments_lexer": "ipython3",
   "version": "3.12.0"
  }
 },
 "nbformat": 4,
 "nbformat_minor": 5
}
