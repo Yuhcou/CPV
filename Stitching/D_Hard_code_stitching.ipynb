{
 "cells": [
  {
   "cell_type": "code",
   "id": "6e6fcb2f-0e0d-4df3-b43e-9d3dc912d4bc",
   "metadata": {
    "tags": [],
    "ExecuteTime": {
     "end_time": "2024-06-18T02:50:00.171840Z",
     "start_time": "2024-06-18T02:50:00.167765Z"
    }
   },
   "source": [
    "# import the necessary packages\n",
    "import numpy as np\n",
    "import imutils\n",
    "import cv2\n",
    "import os"
   ],
   "outputs": [],
   "execution_count": 4
  },
  {
   "cell_type": "code",
   "id": "44eb2b2d-7743-4aa0-834f-9fad7e3a8b3f",
   "metadata": {
    "tags": [],
    "ExecuteTime": {
     "end_time": "2024-06-18T02:50:00.183393Z",
     "start_time": "2024-06-18T02:50:00.172847Z"
    }
   },
   "source": [
    "\n",
    " \n",
    "# tutorial: https://www.pyimagesearch.com/2016/01/11/opencv-panorama-stitching/\n",
    "# uses SIFT\n",
    "\n",
    "class Stitcher:\n",
    "    def __init__(self):\n",
    "        # determine if we are using OpenCV v3.X\n",
    "        self.isv3 = imutils.is_cv3(or_better=True)\n",
    "\n",
    "\n",
    "    def stitch(self, images, ratio=0.5, reprojThresh=5.0, showMatches=False):\n",
    "        # unpack the images, then detect keypoints and extract Local invariant descriptors from them\n",
    "        (imageB, imageA) = images # list of two images, [left, right]\n",
    "        (kpsA, featuresA) = self.detectAndDescribe(imageA)\n",
    "        (kpsB, featuresB) = self.detectAndDescribe(imageB)\n",
    "\n",
    "        # match features between the two images\n",
    "        M = self.matchKeypoints(kpsA, kpsB, featuresA, featuresB, ratio, reprojThresh)\n",
    "        # if the match is None, then there aren't enough matched keypoints to create a panorama\n",
    "        if M is None:\n",
    "            print('M =', M)\n",
    "            return None\n",
    "\n",
    "        # otherwise, apply a perspective warp to stitch the images together\n",
    "        (matches, H, status) = M\n",
    "        result = cv2.warpPerspective(imageA, H,\n",
    "            (imageA.shape[1] + imageB.shape[1], imageA.shape[0]))\n",
    "        result[0:imageB.shape[0], 0:imageB.shape[1]] = imageB\n",
    " \n",
    "        # check to see if the keypoint matches should be visualized\n",
    "        if showMatches:\n",
    "            vis = self.drawMatches(imageA, imageB, kpsA, kpsB, matches,\n",
    "                status)\n",
    " \n",
    "            # return a tuple of the stitched image and the\n",
    "            # visualization\n",
    "            return (result, vis)\n",
    " \n",
    "        # return the stitched image\n",
    "        return result\n",
    "\n",
    "    def detectAndDescribe(self, image):\n",
    "        # convert the image to grayscale\n",
    "        gray = cv2.cvtColor(image, cv2.COLOR_BGR2GRAY)\n",
    " \n",
    "        # check to see if we are using OpenCV 3.X\n",
    "        if self.isv3:\n",
    "            # detect and extract features from the image\n",
    "            descriptor = cv2.xfeatures2d.SIFT_create()\n",
    "            (kps, features) = descriptor.detectAndCompute(image, None)\n",
    " \n",
    "        # otherwise, we are using OpenCV 2.4.X\n",
    "        else:\n",
    "            # detect keypoints in the image\n",
    "            detector = cv2.FeatureDetector_create(\"SIFT\")\n",
    "            kps = detector.detect(gray)\n",
    "\n",
    "            # extract features from the image\n",
    "            extractor = cv2.DescriptorExtractor_create(\"SIFT\")\n",
    "            (kps, features) = extractor.compute(gray, kps)\n",
    "\n",
    "            # convert the keypoints from KeyPoint objects to NumPy\n",
    "            # arrays\n",
    "        kps = np.float32([kp.pt for kp in kps])\n",
    "\n",
    "            # return a tuple of keypoints and features\n",
    "        return (kps, features)\n",
    "\n",
    "    def matchKeypoints(self, kpsA, kpsB, featuresA, featuresB, ratio, reprojThresh):\n",
    "        # compute the raw matches and initialize the list of actual matches\n",
    "        matcher = cv2.DescriptorMatcher_create(\"BruteForce\")\n",
    "        rawMatches = matcher.knnMatch(featuresA, featuresB, 2)\n",
    "        matches = []\n",
    " \n",
    "        # loop over the raw matches\n",
    "        for m in rawMatches:\n",
    "            # ensure the distance is within a certain ratio of each other (i.e. Lowe's ratio test)\n",
    "            if len(m) == 2 and m[0].distance < m[1].distance * ratio:\n",
    "                matches.append((m[0].trainIdx, m[0].queryIdx))\n",
    "\n",
    "                    # computing a homography requires at least 4 matches\n",
    "        if len(matches) > 4:\n",
    "            # construct the two sets of points\n",
    "            ptsA = np.float32([kpsA[i] for (_, i) in matches])\n",
    "            ptsB = np.float32([kpsB[i] for (i, _) in matches])\n",
    " \n",
    "            # compute the homography between the two sets of points\n",
    "            (H, status) = cv2.findHomography(ptsA, ptsB, cv2.RANSAC,\n",
    "                reprojThresh)\n",
    " \n",
    "            # return the matches along with the homograpy matrix\n",
    "            # and status of each matched point\n",
    "            return (matches, H, status)\n",
    "\n",
    "        # otherwise, no homograpy could be computed\n",
    "        return None\n",
    "\n",
    "\n",
    "    def drawMatches(self, imageA, imageB, kpsA, kpsB, matches, status):\n",
    "        # initialize the output visualization image\n",
    "        (hA, wA) = imageA.shape[:2]\n",
    "        (hB, wB) = imageB.shape[:2]\n",
    "        vis = np.zeros((max(hA, hB), wA + wB, 3), dtype=\"uint8\")\n",
    "        vis[0:hA, 0:wA] = imageA\n",
    "        vis[0:hB, wA:] = imageB\n",
    " \n",
    "        # loop over the matches\n",
    "        for ((trainIdx, queryIdx), s) in zip(matches, status):\n",
    "            # only process the match if the keypoint was successfully\n",
    "            # matched\n",
    "            if s == 1:\n",
    "                # draw the match\n",
    "                ptA = (int(kpsA[queryIdx][0]), int(kpsA[queryIdx][1]))\n",
    "                ptB = (int(kpsB[trainIdx][0]) + wA, int(kpsB[trainIdx][1]))\n",
    "                cv2.line(vis, ptA, ptB, (0, 255, 0), 1)\n",
    " \n",
    "        # return the visualization\n",
    "        return vis\n",
    "\n",
    "\n",
    "\n",
    "\n"
   ],
   "outputs": [],
   "execution_count": 5
  },
  {
   "cell_type": "code",
   "id": "0aa0d180-2437-4bf2-b005-2014115f704e",
   "metadata": {
    "ExecuteTime": {
     "end_time": "2024-06-18T02:50:00.201774Z",
     "start_time": "2024-06-18T02:50:00.184398Z"
    }
   },
   "source": [
    "left_filepath = 'left.jpg'\n",
    "right_filepath = 'mid.jpg'\n",
    "imageA = cv2.imread(left_filepath)\n",
    "imageB = cv2.imread(right_filepath)"
   ],
   "outputs": [],
   "execution_count": 6
  },
  {
   "cell_type": "code",
   "id": "a9f2afc7-c1fd-4fcd-9247-f8cee3afcaf2",
   "metadata": {
    "tags": [],
    "ExecuteTime": {
     "end_time": "2024-06-18T02:50:00.246799Z",
     "start_time": "2024-06-18T02:50:00.202783Z"
    }
   },
   "source": [
    "\n",
    "imageA = imutils.resize(imageA, width=400)\n",
    "imageB = imutils.resize(imageB, width=400)\n",
    " \n",
    "# stitch the images together to create a panorama\n",
    "stitcher = Stitcher()\n",
    "(result, vis) = stitcher.stitch([imageA, imageB], showMatches=True)\n",
    " \n",
    "# show the images\n",
    "cv2.imshow(\"Image A\", imageA)\n",
    "cv2.imshow(\"Image B\", imageB)\n",
    "cv2.imshow(\"Keypoint Matches\", vis)\n",
    "cv2.imshow(\"Result\", result)\n",
    "cv2.waitKey(0)\n",
    "cv2.destroyAllWindows()"
   ],
   "outputs": [
    {
     "ename": "AttributeError",
     "evalue": "module 'cv2' has no attribute 'xfeatures2d'",
     "output_type": "error",
     "traceback": [
      "\u001B[1;31m---------------------------------------------------------------------------\u001B[0m",
      "\u001B[1;31mAttributeError\u001B[0m                            Traceback (most recent call last)",
      "Cell \u001B[1;32mIn[7], line 6\u001B[0m\n\u001B[0;32m      4\u001B[0m \u001B[38;5;66;03m# stitch the images together to create a panorama\u001B[39;00m\n\u001B[0;32m      5\u001B[0m stitcher \u001B[38;5;241m=\u001B[39m Stitcher()\n\u001B[1;32m----> 6\u001B[0m (result, vis) \u001B[38;5;241m=\u001B[39m \u001B[43mstitcher\u001B[49m\u001B[38;5;241;43m.\u001B[39;49m\u001B[43mstitch\u001B[49m\u001B[43m(\u001B[49m\u001B[43m[\u001B[49m\u001B[43mimageA\u001B[49m\u001B[43m,\u001B[49m\u001B[43m \u001B[49m\u001B[43mimageB\u001B[49m\u001B[43m]\u001B[49m\u001B[43m,\u001B[49m\u001B[43m \u001B[49m\u001B[43mshowMatches\u001B[49m\u001B[38;5;241;43m=\u001B[39;49m\u001B[38;5;28;43;01mTrue\u001B[39;49;00m\u001B[43m)\u001B[49m\n\u001B[0;32m      8\u001B[0m \u001B[38;5;66;03m# show the images\u001B[39;00m\n\u001B[0;32m      9\u001B[0m cv2\u001B[38;5;241m.\u001B[39mimshow(\u001B[38;5;124m\"\u001B[39m\u001B[38;5;124mImage A\u001B[39m\u001B[38;5;124m\"\u001B[39m, imageA)\n",
      "Cell \u001B[1;32mIn[5], line 13\u001B[0m, in \u001B[0;36mStitcher.stitch\u001B[1;34m(self, images, ratio, reprojThresh, showMatches)\u001B[0m\n\u001B[0;32m     10\u001B[0m \u001B[38;5;28;01mdef\u001B[39;00m \u001B[38;5;21mstitch\u001B[39m(\u001B[38;5;28mself\u001B[39m, images, ratio\u001B[38;5;241m=\u001B[39m\u001B[38;5;241m0.5\u001B[39m, reprojThresh\u001B[38;5;241m=\u001B[39m\u001B[38;5;241m5.0\u001B[39m, showMatches\u001B[38;5;241m=\u001B[39m\u001B[38;5;28;01mFalse\u001B[39;00m):\n\u001B[0;32m     11\u001B[0m     \u001B[38;5;66;03m# unpack the images, then detect keypoints and extract Local invariant descriptors from them\u001B[39;00m\n\u001B[0;32m     12\u001B[0m     (imageB, imageA) \u001B[38;5;241m=\u001B[39m images \u001B[38;5;66;03m# list of two images, [left, right]\u001B[39;00m\n\u001B[1;32m---> 13\u001B[0m     (kpsA, featuresA) \u001B[38;5;241m=\u001B[39m \u001B[38;5;28;43mself\u001B[39;49m\u001B[38;5;241;43m.\u001B[39;49m\u001B[43mdetectAndDescribe\u001B[49m\u001B[43m(\u001B[49m\u001B[43mimageA\u001B[49m\u001B[43m)\u001B[49m\n\u001B[0;32m     14\u001B[0m     (kpsB, featuresB) \u001B[38;5;241m=\u001B[39m \u001B[38;5;28mself\u001B[39m\u001B[38;5;241m.\u001B[39mdetectAndDescribe(imageB)\n\u001B[0;32m     16\u001B[0m     \u001B[38;5;66;03m# match features between the two images\u001B[39;00m\n",
      "Cell \u001B[1;32mIn[5], line 48\u001B[0m, in \u001B[0;36mStitcher.detectAndDescribe\u001B[1;34m(self, image)\u001B[0m\n\u001B[0;32m     45\u001B[0m \u001B[38;5;66;03m# check to see if we are using OpenCV 3.X\u001B[39;00m\n\u001B[0;32m     46\u001B[0m \u001B[38;5;28;01mif\u001B[39;00m \u001B[38;5;28mself\u001B[39m\u001B[38;5;241m.\u001B[39misv3:\n\u001B[0;32m     47\u001B[0m     \u001B[38;5;66;03m# detect and extract features from the image\u001B[39;00m\n\u001B[1;32m---> 48\u001B[0m     descriptor \u001B[38;5;241m=\u001B[39m \u001B[43mcv2\u001B[49m\u001B[38;5;241;43m.\u001B[39;49m\u001B[43mxfeatures2d\u001B[49m\u001B[38;5;241m.\u001B[39mSIFT_create()\n\u001B[0;32m     49\u001B[0m     (kps, features) \u001B[38;5;241m=\u001B[39m descriptor\u001B[38;5;241m.\u001B[39mdetectAndCompute(image, \u001B[38;5;28;01mNone\u001B[39;00m)\n\u001B[0;32m     51\u001B[0m \u001B[38;5;66;03m# otherwise, we are using OpenCV 2.4.X\u001B[39;00m\n\u001B[0;32m     52\u001B[0m \u001B[38;5;28;01melse\u001B[39;00m:\n\u001B[0;32m     53\u001B[0m     \u001B[38;5;66;03m# detect keypoints in the image\u001B[39;00m\n",
      "\u001B[1;31mAttributeError\u001B[0m: module 'cv2' has no attribute 'xfeatures2d'"
     ]
    }
   ],
   "execution_count": 7
  },
  {
   "cell_type": "code",
   "id": "c8cc17b1-27b1-40b4-988d-e3b998272f1f",
   "metadata": {
    "ExecuteTime": {
     "end_time": "2024-06-18T02:50:00.247809Z",
     "start_time": "2024-06-18T02:50:00.247809Z"
    }
   },
   "source": [],
   "outputs": [],
   "execution_count": null
  }
 ],
 "metadata": {
  "kernelspec": {
   "display_name": "Python 3 (ipykernel)",
   "language": "python",
   "name": "python3"
  },
  "language_info": {
   "codemirror_mode": {
    "name": "ipython",
    "version": 3
   },
   "file_extension": ".py",
   "mimetype": "text/x-python",
   "name": "python",
   "nbconvert_exporter": "python",
   "pygments_lexer": "ipython3",
   "version": "3.12.3"
  }
 },
 "nbformat": 4,
 "nbformat_minor": 5
}
