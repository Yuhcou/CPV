{
 "cells": [
  {
   "cell_type": "code",
   "execution_count": 6,
   "id": "42257ffe-2304-438d-9cc8-12829371985a",
   "metadata": {},
   "outputs": [
    {
     "name": "stdout",
     "output_type": "stream",
     "text": [
      "Your Panorama is ready!!!\n"
     ]
    },
    {
     "data": {
      "text/plain": [
       "-1"
      ]
     },
     "execution_count": 6,
     "metadata": {},
     "output_type": "execute_result"
    }
   ],
   "source": [
    "import cv2 \n",
    "image_paths=['left.jpeg','right.jpeg'] \n",
    "image_paths=['img1.jpg','img2.jpg', 'img3.jpg'] \n",
    "\n",
    "# initialized a list of images \n",
    "imgs = [] \n",
    "  \n",
    "for i in range(len(image_paths)): \n",
    "    imgs.append(cv2.imread(image_paths[i])) \n",
    "    imgs[i]=cv2.resize(imgs[i],(0,0),fx=0.8,fy=0.8) \n",
    "    # this is optional if your input images isn't too large \n",
    "    # you don't need to scale down the image \n",
    "    # in my case the input images are of dimensions 3000x1200 \n",
    "    # and due to this the resultant image won't fit the screen \n",
    "    # scaling down the images  \n",
    "# showing the original pictures \n",
    "# cv2.imshow('1',imgs[0]) \n",
    "# cv2.imshow('2',imgs[1]) \n",
    "# cv2.imshow('3',imgs[2]) \n",
    "  \n",
    "stitchy=cv2.Stitcher.create() \n",
    "(dummy,output)=stitchy.stitch(imgs) \n",
    "  \n",
    "if dummy != cv2.STITCHER_OK: \n",
    "  # checking if the stitching procedure is successful \n",
    "  # .stitch() function returns a true value if stitching is  \n",
    "  # done successfully \n",
    "    print(\"stitching ain't successful\") \n",
    "else:  \n",
    "    print('Your Panorama is ready!!!') \n",
    "  \n",
    "# final output \n",
    "cv2.imshow('final result',output) \n",
    "  \n",
    "cv2.waitKey(0)"
   ]
  },
  {
   "cell_type": "code",
   "execution_count": null,
   "id": "e67864c8-b119-4341-a2f7-988b976e532b",
   "metadata": {},
   "outputs": [],
   "source": []
  },
  {
   "cell_type": "code",
   "execution_count": null,
   "id": "030b3235-a423-49ba-bb13-ab1402ddba9d",
   "metadata": {},
   "outputs": [],
   "source": []
  }
 ],
 "metadata": {
  "kernelspec": {
   "display_name": "Python 3 (ipykernel)",
   "language": "python",
   "name": "python3"
  },
  "language_info": {
   "codemirror_mode": {
    "name": "ipython",
    "version": 3
   },
   "file_extension": ".py",
   "mimetype": "text/x-python",
   "name": "python",
   "nbconvert_exporter": "python",
   "pygments_lexer": "ipython3",
   "version": "3.12.0"
  }
 },
 "nbformat": 4,
 "nbformat_minor": 5
}
