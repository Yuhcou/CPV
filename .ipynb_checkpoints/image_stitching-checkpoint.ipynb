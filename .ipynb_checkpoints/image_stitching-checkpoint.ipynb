{
 "cells": [
  {
   "cell_type": "code",
   "id": "21d13008-e11a-4e31-b340-4bdf93cc73f3",
   "metadata": {
    "ExecuteTime": {
     "end_time": "2024-06-12T04:23:43.291413Z",
     "start_time": "2024-06-12T04:23:43.288492Z"
    }
   },
   "source": [
    "import cv2\n",
    "import os"
   ],
   "outputs": [],
   "execution_count": 2
  },
  {
   "metadata": {
    "ExecuteTime": {
     "end_time": "2024-06-12T04:23:43.701328Z",
     "start_time": "2024-06-12T04:23:43.684356Z"
    }
   },
   "cell_type": "code",
   "source": [
    "folder = r'Z/'\n",
    "dir_list = os.listdir(folder)\n",
    "list1 = []\n",
    "for file in dir_list:\n",
    "    os.rename(folder + str(file), folder + str(file).replace(' ', ''))\n",
    "print(list1)"
   ],
   "id": "b94cbf2fcedf45d7",
   "outputs": [
    {
     "name": "stdout",
     "output_type": "stream",
     "text": [
      "[]\n"
     ]
    }
   ],
   "execution_count": 3
  },
  {
   "cell_type": "code",
   "id": "0774aeba-84c9-4a86-898d-63179ac0853a",
   "metadata": {
    "ExecuteTime": {
     "end_time": "2024-06-12T04:23:44.355342Z",
     "start_time": "2024-06-12T04:23:44.350122Z"
    }
   },
   "source": [
    "folder = r'Z/'\n",
    "dir_list = os.listdir(folder)\n",
    "list1 = []\n",
    "for file in dir_list:\n",
    "    if file.find('A') == 0:\n",
    "        list1.append(folder + str(file))\n",
    "print(list1)\n",
    "        "
   ],
   "outputs": [
    {
     "name": "stdout",
     "output_type": "stream",
     "text": [
      "['Z/A(1).jpg', 'Z/A(10).jpg', 'Z/A(11).jpg', 'Z/A(12).jpg', 'Z/A(13).jpg', 'Z/A(14).jpg', 'Z/A(15).jpg', 'Z/A(16).jpg', 'Z/A(17).jpg', 'Z/A(18).jpg', 'Z/A(19).jpg', 'Z/A(2).jpg', 'Z/A(20).jpg', 'Z/A(21).jpg', 'Z/A(22).jpg', 'Z/A(23).jpg', 'Z/A(24).jpg', 'Z/A(3).jpg', 'Z/A(4).jpg', 'Z/A(5).jpg', 'Z/A(6).jpg', 'Z/A(7).jpg', 'Z/A(8).jpg', 'Z/A(9).jpg']\n"
     ]
    }
   ],
   "execution_count": 4
  },
  {
   "cell_type": "code",
   "id": "42257ffe-2304-438d-9cc8-12829371985a",
   "metadata": {
    "ExecuteTime": {
     "end_time": "2024-06-12T04:23:56.178718Z",
     "start_time": "2024-06-12T04:23:44.929119Z"
    }
   },
   "source": [
    "# image_paths=['left.jpeg','right.jpeg'] \n",
    "# image_paths=['img1.jpg','img2.jpg', 'img3.jpg'] \n",
    "image_paths = list1\n",
    "\n",
    "imgs = [] \n",
    "  \n",
    "for i in range(len(image_paths)): \n",
    "    imgs.append(cv2.imread(image_paths[i])) \n",
    "#     imgs[i]=cv2.resize(imgs[i],(0,0),fx=0.8,fy=0.8) \n",
    "\n",
    "cv2.imshow('1',imgs[0]) \n",
    "cv2.imshow('2',imgs[1]) \n",
    "cv2.imshow('3',imgs[2]) \n",
    "  \n",
    "stitchy=cv2.Stitcher.create() \n",
    "(dummy,output)=stitchy.stitch(imgs) \n",
    "  \n",
    "if dummy != cv2.STITCHER_OK: \n",
    "    print(\"stitching ain't successful\") \n",
    "else:  \n",
    "    print('Your Panorama is ready!!!') \n",
    "  \n",
    "# cv2.imshow('final result',output) \n",
    "  \n",
    "cv2.waitKey(0)"
   ],
   "outputs": [
    {
     "name": "stdout",
     "output_type": "stream",
     "text": [
      "stitching ain't successful\n"
     ]
    },
    {
     "data": {
      "text/plain": [
       "-1"
      ]
     },
     "execution_count": 5,
     "metadata": {},
     "output_type": "execute_result"
    }
   ],
   "execution_count": 5
  },
  {
   "cell_type": "code",
   "execution_count": null,
   "id": "030b3235-a423-49ba-bb13-ab1402ddba9d",
   "metadata": {},
   "outputs": [],
   "source": [
    "import pandas as pd\n",
    "\n",
    "a = pd.DataFrame()"
   ]
  }
 ],
 "metadata": {
  "kernelspec": {
   "display_name": "Python 3 (ipykernel)",
   "language": "python",
   "name": "python3"
  },
  "language_info": {
   "codemirror_mode": {
    "name": "ipython",
    "version": 3
   },
   "file_extension": ".py",
   "mimetype": "text/x-python",
   "name": "python",
   "nbconvert_exporter": "python",
   "pygments_lexer": "ipython3",
   "version": "3.12.0"
  }
 },
 "nbformat": 4,
 "nbformat_minor": 5
}
