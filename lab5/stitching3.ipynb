{
 "cells": [
  {
   "cell_type": "code",
   "id": "initial_id",
   "metadata": {
    "collapsed": true,
    "ExecuteTime": {
     "end_time": "2024-06-18T02:53:56.747990Z",
     "start_time": "2024-06-18T02:53:56.744369Z"
    }
   },
   "source": [
    "import os\n",
    "import numpy as np\n",
    "import cv2\n",
    "import matplotlib.pyplot as plt\n",
    "import re"
   ],
   "outputs": [],
   "execution_count": 94
  },
  {
   "metadata": {
    "ExecuteTime": {
     "end_time": "2024-06-18T02:53:56.752618Z",
     "start_time": "2024-06-18T02:53:56.749998Z"
    }
   },
   "cell_type": "code",
   "source": [
    "def sort_rule1(a):\n",
    "    return int(re.search(r'\\d+', a).group())"
   ],
   "id": "7de442fcbeb9f3",
   "outputs": [],
   "execution_count": 95
  },
  {
   "metadata": {
    "ExecuteTime": {
     "end_time": "2024-06-18T02:53:57.373968Z",
     "start_time": "2024-06-18T02:53:56.753624Z"
    }
   },
   "cell_type": "code",
   "source": [
    "folder = r'Q3/'\n",
    "dir_list = os.listdir(folder)\n",
    "\n",
    "imgs = []\n",
    "list1 = []\n",
    "for file in dir_list:\n",
    "    # if file.find(char) == 0:\n",
    "    list1.append(folder + str(file))\n",
    "# print(list1)\n",
    "list1 = sorted(list1, key=sort_rule1, reverse=False)\n",
    "print(list1)\n",
    "imgs = [cv2.imread(img) for img in list1]\n",
    "\n",
    "# imgs = [cv2.resize(img,(0,0),fx=0.6,fy=0.6)  for img in imgs]\n",
    "\n",
    "# imgs = imgs[0:3]"
   ],
   "id": "ba3d8cdbba2b377f",
   "outputs": [
    {
     "name": "stdout",
     "output_type": "stream",
     "text": [
      "['Q3/DSC_0171.jpg', 'Q3/DSC_0172.jpg', 'Q3/DSC_0173.jpg', 'Q3/DSC_0174.jpg', 'Q3/DSC_0175.jpg', 'Q3/DSC_0176.jpg', 'Q3/DSC_0177.jpg', 'Q3/DSC_0178.jpg', 'Q3/DSC_0179.jpg', 'Q3/DSC_0180.jpg', 'Q3/DSC_0182.jpg', 'Q3/DSC_0183.jpg', 'Q3/DSC_0184.jpg', 'Q3/DSC_0185.jpg', 'Q3/DSC_0186.jpg', 'Q3/DSC_0187.jpg']\n"
     ]
    }
   ],
   "execution_count": 96
  },
  {
   "metadata": {
    "ExecuteTime": {
     "end_time": "2024-06-18T02:53:57.377710Z",
     "start_time": "2024-06-18T02:53:57.374548Z"
    }
   },
   "cell_type": "code",
   "source": [
    "# cv2.imshow('name', imgs[4])\n",
    "# cv2.waitKey(0)\n",
    "# cv2.destroyAllWindows()"
   ],
   "id": "7d7a435cfb4a99f6",
   "outputs": [],
   "execution_count": 97
  },
  {
   "metadata": {
    "ExecuteTime": {
     "end_time": "2024-06-18T02:54:39.767261Z",
     "start_time": "2024-06-18T02:53:57.379728Z"
    }
   },
   "cell_type": "code",
   "source": [
    "# image_paths=['left.jpeg','right.jpeg'] \n",
    "# image_paths=['img1.jpg','img2.jpg', 'img3.jpg'] \n",
    "# image_paths = list1\n",
    "\n",
    "# imgs = [] \n",
    "  \n",
    "# for i in range(len(image_paths)): \n",
    "#     imgs.append(cv2.imread(image_paths[i])) \n",
    "#     imgs[i]=cv2.resize(imgs[i],(0,0),fx=0.8,fy=0.8) \n",
    "\n",
    "stitchy=cv2.Stitcher.create() \n",
    "(dummy,output)=stitchy.stitch(imgs)   \n",
    "print('status: ', dummy)\n",
    "\n",
    "output = cv2.resize(output,(0,0),fx=0.2,fy=0.2)  \n",
    "cv2.imshow('final result',output) \n",
    "  \n",
    "cv2.waitKey(0)\n",
    "cv2.destroyAllWindows()"
   ],
   "id": "ef4888ad8021097a",
   "outputs": [
    {
     "name": "stdout",
     "output_type": "stream",
     "text": [
      "status:  0\n"
     ]
    }
   ],
   "execution_count": 98
  },
  {
   "metadata": {
    "ExecuteTime": {
     "end_time": "2024-06-18T02:54:39.771432Z",
     "start_time": "2024-06-18T02:54:39.769267Z"
    }
   },
   "cell_type": "code",
   "source": "",
   "id": "98dd85b8eec44083",
   "outputs": [],
   "execution_count": 98
  }
 ],
 "metadata": {
  "kernelspec": {
   "display_name": "Python 3",
   "language": "python",
   "name": "python3"
  },
  "language_info": {
   "codemirror_mode": {
    "name": "ipython",
    "version": 2
   },
   "file_extension": ".py",
   "mimetype": "text/x-python",
   "name": "python",
   "nbconvert_exporter": "python",
   "pygments_lexer": "ipython2",
   "version": "2.7.6"
  }
 },
 "nbformat": 4,
 "nbformat_minor": 5
}
